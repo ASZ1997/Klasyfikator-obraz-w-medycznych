{
 "cells": [
  {
   "cell_type": "code",
   "execution_count": null,
   "metadata": {},
   "outputs": [],
   "source": [
    "import cv2\n",
    "import tensorflow as tf\n",
    "from keras.models import load_model\n",
    "CATEGORIES = [\"diabetic_retinopathy\", \"glaucoma\", \"healthy\"]\n",
    "def prepare(file):\n",
    "    IMG_SIZE = 50\n",
    "    img_array = cv2.cvtColor(self.image, cv2.COLOR_RGB2GRAY)\n",
    "    new_array = cv2.resize(img_array, (IMG_SIZE, IMG_SIZE))\n",
    "    output = cv2.medianBlur(new_array, 5)\n",
    "    th2 = cv2.adaptiveThreshold(output, 255, cv2.ADAPTIVE_THRESH_MEAN_C, cv2.THRESH_BINARY_INV, 11, 2)\n",
    "        \n",
    "    return th2.reshape(-1, IMG_SIZE, IMG_SIZE, 1)\n",
    "model = tf.keras.models.load_model(\"CNN.model\")\n",
    "\n",
    "image = \"   \" #Ściezka do badanego pliku\n",
    "prediction = model.predict([prepare(image)])\n",
    "prediction = list(prediction[0])\n",
    "print(CATEGORIES[prediction.index(max(prediction))])"
   ]
  }
 ],
 "metadata": {
  "kernelspec": {
   "display_name": "Python 3",
   "language": "python",
   "name": "python3"
  },
  "language_info": {
   "codemirror_mode": {
    "name": "ipython",
    "version": 3
   },
   "file_extension": ".py",
   "mimetype": "text/x-python",
   "name": "python",
   "nbconvert_exporter": "python",
   "pygments_lexer": "ipython3",
   "version": "3.7.7"
  }
 },
 "nbformat": 4,
 "nbformat_minor": 4
}
